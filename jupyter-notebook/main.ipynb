{
 "cells": [
  {
   "cell_type": "code",
   "execution_count": null,
   "metadata": {},
   "outputs": [],
   "source": [
    "# Imports\n",
    "import pandas as pd\n",
    "\n",
    "# Load codebook data\n",
    "data = pd.read_csv('./data/COVID19Death_geoRegion.csv')\n",
    "relevant_data = data[['geoRegion', 'datum', 'entries', 'sumTotal']]\n",
    "\n",
    "# Convert date string into actual date object...\n",
    "relevant_data['datum'] = pd.to_datetime(relevant_data['datum'], format=\"%Y-%m-%d\")\n",
    "relevant_data_ch = relevant_data[(relevant_data['geoRegion'] == 'CH')]\n",
    "\n",
    "relevant_data_ch.tail()\n"
   ]
  },
  {
   "cell_type": "code",
   "execution_count": null,
   "metadata": {},
   "outputs": [],
   "source": [
    "import datetime\n",
    "import pandas as pd\n",
    "\n",
    "start_date_ticks = 1580511600\n",
    "end_date_ticks = 1656108000\n",
    "\n",
    "start_date = datetime.datetime.fromtimestamp(start_date_ticks)\n",
    "end_date = datetime.datetime.fromtimestamp(end_date_ticks)\n",
    "\n",
    "\n",
    "data = pd.read_csv('./data/COVID19Death_geoRegion.csv')\n",
    "relevant_data = data[['geoRegion', 'datum', 'entries', 'sumTotal']]\n",
    "\n",
    "# Convert date string into actual date object...\n",
    "relevant_data['datum'] = pd.to_datetime(relevant_data['datum'], format=\"%Y-%m-%d\")\n",
    "\n",
    "# Sample for a specific time range...\n",
    "relevant_data = relevant_data[(relevant_data['datum'] > start_date) & (relevant_data['datum'] < end_date)]\n",
    "\n",
    "relevant_data = relevant_data[relevant_data['geoRegion'] == 'GR']\n",
    "\n",
    "relevant_data.tail()\n",
    "\n"
   ]
  },
  {
   "cell_type": "code",
   "execution_count": null,
   "metadata": {},
   "outputs": [],
   "source": [
    "import pandas as pd\n",
    "\n",
    "data = pd.read_csv('./data/COVID19Death_geoRegion.csv')\n",
    "regions = data['geoRegion'].unique()\n",
    "\n",
    "print(regions)\n"
   ]
  },
  {
   "cell_type": "code",
   "execution_count": null,
   "metadata": {},
   "outputs": [],
   "source": [
    "# Imports\n",
    "import pandas as pd\n",
    "\n",
    "# Load codebook data\n",
    "data = pd.read_csv('./data/COVID19HospCapacity_geoRegion.csv')\n",
    "relevant_data = data[['geoRegion', 'date', 'TotalPercent_AllPatients']]\n",
    "\n",
    "# Convert date string into actual date object...\n",
    "relevant_data['date'] = pd.to_datetime(relevant_data['date'], format=\"%Y-%m-%d\")\n",
    "#relevant_data_ch = relevant_data[(relevant_data['geoRegion'] == 'CH')]\n",
    "\n",
    "relevant_data.tail()\n"
   ]
  }
 ],
 "metadata": {
  "kernelspec": {
   "display_name": "Python 3.10.4 64-bit",
   "language": "python",
   "name": "python3"
  },
  "language_info": {
   "codemirror_mode": {
    "name": "ipython",
    "version": 3
   },
   "file_extension": ".py",
   "mimetype": "text/x-python",
   "name": "python",
   "nbconvert_exporter": "python",
   "pygments_lexer": "ipython3",
   "version": "3.10.4"
  },
  "orig_nbformat": 4,
  "vscode": {
   "interpreter": {
    "hash": "e7370f93d1d0cde622a1f8e1c04877d8463912d04d973331ad4851f04de6915a"
   }
  }
 },
 "nbformat": 4,
 "nbformat_minor": 2
}
