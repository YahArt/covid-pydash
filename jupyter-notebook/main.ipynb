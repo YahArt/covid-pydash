{
 "cells": [
  {
   "cell_type": "code",
   "execution_count": 1,
   "metadata": {},
   "outputs": [
    {
     "name": "stderr",
     "output_type": "stream",
     "text": [
      "/tmp/ipykernel_21266/2271848355.py:9: SettingWithCopyWarning: \n",
      "A value is trying to be set on a copy of a slice from a DataFrame.\n",
      "Try using .loc[row_indexer,col_indexer] = value instead\n",
      "\n",
      "See the caveats in the documentation: https://pandas.pydata.org/pandas-docs/stable/user_guide/indexing.html#returning-a-view-versus-a-copy\n",
      "  relevant_data['datum'] = pd.to_datetime(relevant_data['datum'], format=\"%Y-%m-%d\")\n"
     ]
    },
    {
     "data": {
      "text/html": [
       "<div>\n",
       "<style scoped>\n",
       "    .dataframe tbody tr th:only-of-type {\n",
       "        vertical-align: middle;\n",
       "    }\n",
       "\n",
       "    .dataframe tbody tr th {\n",
       "        vertical-align: top;\n",
       "    }\n",
       "\n",
       "    .dataframe thead th {\n",
       "        text-align: right;\n",
       "    }\n",
       "</style>\n",
       "<table border=\"1\" class=\"dataframe\">\n",
       "  <thead>\n",
       "    <tr style=\"text-align: right;\">\n",
       "      <th></th>\n",
       "      <th>geoRegion</th>\n",
       "      <th>datum</th>\n",
       "      <th>entries</th>\n",
       "      <th>sumTotal</th>\n",
       "    </tr>\n",
       "  </thead>\n",
       "  <tbody>\n",
       "    <tr>\n",
       "      <th>818</th>\n",
       "      <td>CH</td>\n",
       "      <td>2022-05-22</td>\n",
       "      <td>2</td>\n",
       "      <td>13256</td>\n",
       "    </tr>\n",
       "    <tr>\n",
       "      <th>819</th>\n",
       "      <td>CH</td>\n",
       "      <td>2022-05-23</td>\n",
       "      <td>1</td>\n",
       "      <td>13257</td>\n",
       "    </tr>\n",
       "    <tr>\n",
       "      <th>820</th>\n",
       "      <td>CH</td>\n",
       "      <td>2022-05-24</td>\n",
       "      <td>1</td>\n",
       "      <td>13258</td>\n",
       "    </tr>\n",
       "    <tr>\n",
       "      <th>821</th>\n",
       "      <td>CH</td>\n",
       "      <td>2022-05-25</td>\n",
       "      <td>0</td>\n",
       "      <td>13258</td>\n",
       "    </tr>\n",
       "    <tr>\n",
       "      <th>822</th>\n",
       "      <td>CH</td>\n",
       "      <td>2022-05-26</td>\n",
       "      <td>1</td>\n",
       "      <td>13259</td>\n",
       "    </tr>\n",
       "  </tbody>\n",
       "</table>\n",
       "</div>"
      ],
      "text/plain": [
       "    geoRegion      datum  entries  sumTotal\n",
       "818        CH 2022-05-22        2     13256\n",
       "819        CH 2022-05-23        1     13257\n",
       "820        CH 2022-05-24        1     13258\n",
       "821        CH 2022-05-25        0     13258\n",
       "822        CH 2022-05-26        1     13259"
      ]
     },
     "execution_count": 1,
     "metadata": {},
     "output_type": "execute_result"
    }
   ],
   "source": [
    "# Imports\n",
    "import pandas as pd\n",
    "\n",
    "# Load codebook data\n",
    "data = pd.read_csv('./data/COVID19Death_geoRegion.csv')\n",
    "relevant_data = data[['geoRegion', 'datum', 'entries', 'sumTotal']]\n",
    "\n",
    "# Convert date string into actual date object...\n",
    "relevant_data['datum'] = pd.to_datetime(relevant_data['datum'], format=\"%Y-%m-%d\")\n",
    "relevant_data_ch = relevant_data[(relevant_data['geoRegion'] == 'CH')]\n",
    "\n",
    "# Sample for a specific time range...\n",
    "sample_data_ch = relevant_data_ch[(relevant_data_ch['datum'] > '2022-01-01') & (relevant_data_ch['datum'] < '2022-05-27')].groupby(\"geoRegion\")\n",
    "\n",
    "\n",
    "\"\"\"\n",
    "    {\n",
    "        region: 'CH',\n",
    "        data: [\n",
    "            'datum': 12345,\n",
    "            'entries': 2,\n",
    "            'sumTotal': 0\n",
    "        ]\n",
    "    }\n",
    "\n",
    "\"\"\"\n",
    "\n",
    "sample_data_ch.tail()\n"
   ]
  },
  {
   "cell_type": "code",
   "execution_count": 5,
   "metadata": {},
   "outputs": [
    {
     "name": "stderr",
     "output_type": "stream",
     "text": [
      "C:\\Users\\yhutter\\AppData\\Local\\Temp\\ipykernel_8888\\469131808.py:15: SettingWithCopyWarning: \n",
      "A value is trying to be set on a copy of a slice from a DataFrame.\n",
      "Try using .loc[row_indexer,col_indexer] = value instead\n",
      "\n",
      "See the caveats in the documentation: https://pandas.pydata.org/pandas-docs/stable/user_guide/indexing.html#returning-a-view-versus-a-copy\n",
      "  relevant_data['datum'] = pd.to_datetime(relevant_data['datum'], format=\"%Y-%m-%d\")\n"
     ]
    },
    {
     "data": {
      "text/html": [
       "<div>\n",
       "<style scoped>\n",
       "    .dataframe tbody tr th:only-of-type {\n",
       "        vertical-align: middle;\n",
       "    }\n",
       "\n",
       "    .dataframe tbody tr th {\n",
       "        vertical-align: top;\n",
       "    }\n",
       "\n",
       "    .dataframe thead th {\n",
       "        text-align: right;\n",
       "    }\n",
       "</style>\n",
       "<table border=\"1\" class=\"dataframe\">\n",
       "  <thead>\n",
       "    <tr style=\"text-align: right;\">\n",
       "      <th></th>\n",
       "      <th>geoRegion</th>\n",
       "      <th>datum</th>\n",
       "      <th>entries</th>\n",
       "      <th>sumTotal</th>\n",
       "    </tr>\n",
       "  </thead>\n",
       "  <tbody>\n",
       "    <tr>\n",
       "      <th>10759</th>\n",
       "      <td>GR</td>\n",
       "      <td>2022-05-27</td>\n",
       "      <td>0</td>\n",
       "      <td>246</td>\n",
       "    </tr>\n",
       "    <tr>\n",
       "      <th>10760</th>\n",
       "      <td>GR</td>\n",
       "      <td>2022-05-28</td>\n",
       "      <td>0</td>\n",
       "      <td>246</td>\n",
       "    </tr>\n",
       "    <tr>\n",
       "      <th>10761</th>\n",
       "      <td>GR</td>\n",
       "      <td>2022-05-29</td>\n",
       "      <td>0</td>\n",
       "      <td>246</td>\n",
       "    </tr>\n",
       "    <tr>\n",
       "      <th>10762</th>\n",
       "      <td>GR</td>\n",
       "      <td>2022-05-30</td>\n",
       "      <td>0</td>\n",
       "      <td>246</td>\n",
       "    </tr>\n",
       "    <tr>\n",
       "      <th>10763</th>\n",
       "      <td>GR</td>\n",
       "      <td>2022-05-31</td>\n",
       "      <td>0</td>\n",
       "      <td>246</td>\n",
       "    </tr>\n",
       "  </tbody>\n",
       "</table>\n",
       "</div>"
      ],
      "text/plain": [
       "      geoRegion      datum  entries  sumTotal\n",
       "10759        GR 2022-05-27        0       246\n",
       "10760        GR 2022-05-28        0       246\n",
       "10761        GR 2022-05-29        0       246\n",
       "10762        GR 2022-05-30        0       246\n",
       "10763        GR 2022-05-31        0       246"
      ]
     },
     "execution_count": 5,
     "metadata": {},
     "output_type": "execute_result"
    }
   ],
   "source": [
    "import datetime\n",
    "import pandas as pd\n",
    "\n",
    "start_date_ticks = 1580511600\n",
    "end_date_ticks = 1656108000\n",
    "\n",
    "start_date = datetime.datetime.fromtimestamp(start_date_ticks)\n",
    "end_date = datetime.datetime.fromtimestamp(end_date_ticks)\n",
    "\n",
    "\n",
    "data = pd.read_csv('./data/COVID19Death_geoRegion.csv')\n",
    "relevant_data = data[['geoRegion', 'datum', 'entries', 'sumTotal']]\n",
    "\n",
    "# Convert date string into actual date object...\n",
    "relevant_data['datum'] = pd.to_datetime(relevant_data['datum'], format=\"%Y-%m-%d\")\n",
    "\n",
    "# Sample for a specific time range...\n",
    "relevant_data = relevant_data[(relevant_data['datum'] > start_date) & (relevant_data['datum'] < end_date)]\n",
    "\n",
    "relevant_data = relevant_data[relevant_data['geoRegion'] == 'GR']\n",
    "\n",
    "relevant_data.tail()\n",
    "\n"
   ]
  },
  {
   "cell_type": "code",
   "execution_count": 2,
   "metadata": {},
   "outputs": [
    {
     "name": "stdout",
     "output_type": "stream",
     "text": [
      "['CH' 'CHFL' 'AG' 'AI' 'AR' 'BE' 'BL' 'BS' 'FL' 'FR' 'GE' 'GL' 'GR' 'JU'\n",
      " 'LU' 'NE' 'NW' 'OW' 'SG' 'SH' 'SO' 'SZ' 'TG' 'TI' 'UR' 'VD' 'VS' 'ZG'\n",
      " 'ZH']\n"
     ]
    }
   ],
   "source": [
    "import pandas as pd\n",
    "\n",
    "data = pd.read_csv('./data/COVID19Death_geoRegion.csv')\n",
    "regions = data['geoRegion'].unique()\n",
    "\n",
    "print(regions)\n"
   ]
  }
 ],
 "metadata": {
  "interpreter": {
   "hash": "31c3b3814fae0316a0d1d0cc1ed7c9f2316a8a8d17bfffecd9cc9ee3c7c943dd"
  },
  "kernelspec": {
   "display_name": "Python 3.10.4 64-bit",
   "language": "python",
   "name": "python3"
  },
  "language_info": {
   "codemirror_mode": {
    "name": "ipython",
    "version": 3
   },
   "file_extension": ".py",
   "mimetype": "text/x-python",
   "name": "python",
   "nbconvert_exporter": "python",
   "pygments_lexer": "ipython3",
   "version": "3.10.4"
  },
  "orig_nbformat": 4,
  "vscode": {
   "interpreter": {
    "hash": "e7370f93d1d0cde622a1f8e1c04877d8463912d04d973331ad4851f04de6915a"
   }
  }
 },
 "nbformat": 4,
 "nbformat_minor": 2
}
